{
 "cells": [
  {
   "cell_type": "code",
   "execution_count": 11,
   "metadata": {},
   "outputs": [],
   "source": [
    "#\n",
    "#\n",
    "#\n",
    "#\n",
    "# 99.%\n"
   ]
  },
  {
   "cell_type": "code",
   "execution_count": 12,
   "metadata": {},
   "outputs": [],
   "source": [
    "from __future__ import absolute_import, division, print_function, unicode_literals\n",
    "\n",
    "import tensorflow as tf\n",
    "import numpy as np\n",
    "\n",
    "from tensorflow.keras.layers import Dense, Flatten, Conv2D, MaxPool2D, Dropout\n",
    "from tensorflow.keras import Model\n",
    "import matplotlib.pyplot as plt"
   ]
  },
  {
   "cell_type": "code",
   "execution_count": 20,
   "metadata": {},
   "outputs": [],
   "source": [
    "class MyModel(Model):\n",
    "    def __init__(self):\n",
    "        super(MyModel, self).__init__()\n",
    "        self.FilterSize1 = 16\n",
    "        self.FilterSize2 = 16\n",
    "        \n",
    "        self.conv1 = Conv2D(self.FilterSize1, 3, strides=(2, 2), activation='relu')\n",
    "        self.maxPool1 = MaxPool2D(pool_size=(2, 2), strides=(2, 2))\n",
    "        \n",
    "        self.conv2 = Conv2D(self.FilterSize2, 3, activation='relu')\n",
    "\n",
    "        \n",
    "        self.flatten = Flatten()\n",
    "        self.d1 = Dense(128, activation='relu')\n",
    "        self.d2 = Dense(10, activation='softmax')\n",
    "\n",
    "    def call(self, x):\n",
    "        print(x.shape)\n",
    "        self.after_conv1 = self.conv1(x)\n",
    "        print(self.after_conv1)\n",
    "        self.after_pool1 = self.maxPool1(self.after_conv1)\n",
    "        print(self.after_pool1)\n",
    "        self.after_conv2 = self.conv2(self.after_pool1)\n",
    "        print(self.after_conv2)\n",
    "        self.after_flatten = self.flatten(self.after_conv2)\n",
    "        self.after_dense1 = self.d1(self.after_flatten)\n",
    "\n",
    "        self.after_dense2 = self.d2(self.after_dense1)\n",
    "        \n",
    "        return self.after_dense2\n",
    "\n",
    "model = MyModel()"
   ]
  },
  {
   "cell_type": "code",
   "execution_count": 21,
   "metadata": {},
   "outputs": [],
   "source": [
    "loss_object = tf.keras.losses.SparseCategoricalCrossentropy()\n",
    "optimizer = tf.keras.optimizers.Adam()\n"
   ]
  },
  {
   "cell_type": "code",
   "execution_count": 22,
   "metadata": {},
   "outputs": [],
   "source": [
    "train_loss = tf.keras.metrics.Mean(name='train_loss')\n",
    "train_accuracy = tf.keras.metrics.SparseCategoricalAccuracy(name='train_accuracy')\n",
    "\n",
    "test_loss = tf.keras.metrics.Mean(name='test_loss')\n",
    "test_accuracy = tf.keras.metrics.SparseCategoricalAccuracy(name='test_accuracy')\n"
   ]
  },
  {
   "cell_type": "code",
   "execution_count": 23,
   "metadata": {},
   "outputs": [],
   "source": [
    "@tf.function\n",
    "def train_step(images, labels):\n",
    "    with tf.GradientTape() as tape:\n",
    "        predictions = model(images)\n",
    "        loss = loss_object(labels, predictions)\n",
    "    gradients = tape.gradient(loss, model.trainable_variables)\n",
    "    optimizer.apply_gradients(zip(gradients, model.trainable_variables))\n",
    "\n",
    "    train_loss(loss)\n",
    "    train_accuracy(labels, predictions)"
   ]
  },
  {
   "cell_type": "code",
   "execution_count": 24,
   "metadata": {},
   "outputs": [],
   "source": [
    "@tf.function\n",
    "def test_step(images, labels):\n",
    "    predictions = model(images)\n",
    "    t_loss = loss_object(labels, predictions)\n",
    "\n",
    "    test_loss(t_loss)\n",
    "    test_accuracy(labels, predictions)"
   ]
  },
  {
   "cell_type": "code",
   "execution_count": 25,
   "metadata": {},
   "outputs": [],
   "source": [
    "mnist = tf.keras.datasets.mnist\n",
    "\n",
    "(x_train, y_train), (x_test, y_test) = mnist.load_data()\n",
    "x_train, x_test = x_train / 255.0, x_test / 255.0\n",
    "\n",
    "# Add a channels dimension\n",
    "x_train = x_train[..., tf.newaxis]\n",
    "x_test = x_test[..., tf.newaxis]"
   ]
  },
  {
   "cell_type": "code",
   "execution_count": null,
   "metadata": {},
   "outputs": [],
   "source": []
  },
  {
   "cell_type": "code",
   "execution_count": null,
   "metadata": {},
   "outputs": [
    {
     "name": "stdout",
     "output_type": "stream",
     "text": [
      "WARNING:tensorflow:Layer my_model_2 is casting an input tensor from dtype float64 to the layer's dtype of float32, which is new behavior in TensorFlow 2.  The layer has dtype float32 because it's dtype defaults to floatx.\n",
      "\n",
      "If you intended to run this layer in float32, you can safely ignore this warning. If in doubt, this warning is likely only an issue if you are porting a TensorFlow 1.X model to TensorFlow 2.\n",
      "\n",
      "To change all layers to have dtype float64 by default, call `tf.keras.backend.set_floatx('float64')`. To change just this layer, pass dtype='float64' to the layer constructor. If you are the author of this layer, you can disable autocasting by passing autocast=False to the base Layer constructor.\n",
      "\n",
      "(64, 28, 28, 1)\n",
      "Tensor(\"my_model_2/conv2d_4/Relu:0\", shape=(64, 13, 13, 16), dtype=float32)\n",
      "Tensor(\"my_model_2/max_pooling2d_2/MaxPool:0\", shape=(64, 6, 6, 16), dtype=float32)\n",
      "Tensor(\"my_model_2/conv2d_5/Relu:0\", shape=(64, 4, 4, 32), dtype=float32)\n",
      "(64, 28, 28, 1)\n",
      "Tensor(\"my_model_2/conv2d_4/Relu:0\", shape=(64, 13, 13, 16), dtype=float32)\n",
      "Tensor(\"my_model_2/max_pooling2d_2/MaxPool:0\", shape=(64, 6, 6, 16), dtype=float32)\n",
      "Tensor(\"my_model_2/conv2d_5/Relu:0\", shape=(64, 4, 4, 32), dtype=float32)\n",
      "(32, 28, 28, 1)\n",
      "Tensor(\"my_model_2/conv2d_4/Relu:0\", shape=(32, 13, 13, 16), dtype=float32)\n",
      "Tensor(\"my_model_2/max_pooling2d_2/MaxPool:0\", shape=(32, 6, 6, 16), dtype=float32)\n",
      "Tensor(\"my_model_2/conv2d_5/Relu:0\", shape=(32, 4, 4, 32), dtype=float32)\n",
      "(64, 28, 28, 1)\n",
      "Tensor(\"my_model_2/conv2d_4/Relu:0\", shape=(64, 13, 13, 16), dtype=float32)\n",
      "Tensor(\"my_model_2/max_pooling2d_2/MaxPool:0\", shape=(64, 6, 6, 16), dtype=float32)\n",
      "Tensor(\"my_model_2/conv2d_5/Relu:0\", shape=(64, 4, 4, 32), dtype=float32)\n",
      "(16, 28, 28, 1)\n",
      "Tensor(\"my_model_2/conv2d_4/Relu:0\", shape=(16, 13, 13, 16), dtype=float32)\n",
      "Tensor(\"my_model_2/max_pooling2d_2/MaxPool:0\", shape=(16, 6, 6, 16), dtype=float32)\n",
      "Tensor(\"my_model_2/conv2d_5/Relu:0\", shape=(16, 4, 4, 32), dtype=float32)\n",
      "Epoch 1, Loss: 0.2760123908519745, Accuracy: 91.84166717529297, Test Loss: 0.09058893471956253, Test Accuracy: 97.19000244140625\n",
      "Epoch 2, Loss: 0.08554570376873016, Accuracy: 97.36666870117188, Test Loss: 0.06813892722129822, Test Accuracy: 97.73999786376953\n"
     ]
    }
   ],
   "source": [
    "EPOCHS = 5\n",
    "\n",
    "for batch_size in [64, 256]:\n",
    "    for epoch in range(EPOCHS):\n",
    "        train_loss.reset_states()\n",
    "        train_accuracy.reset_states()\n",
    "        test_loss.reset_states()\n",
    "        test_accuracy.reset_states()\n",
    "\n",
    "        train_ds = tf.data.Dataset.from_tensor_slices((x_train, y_train)).shuffle(60000).batch(batch_size)\n",
    "        test_ds = tf.data.Dataset.from_tensor_slices((x_test, y_test)).batch(64)\n",
    "\n",
    "        for images, labels in train_ds:\n",
    "            train_step(images, labels)\n",
    "\n",
    "        for test_images, test_labels in test_ds:\n",
    "            test_step(test_images, test_labels)\n",
    "\n",
    "        template = 'Epoch {}, Loss: {}, Accuracy: {}, Test Loss: {}, Test Accuracy: {}'\n",
    "        print (template.format(epoch+1,\n",
    "                             train_loss.result(),\n",
    "                             train_accuracy.result()*100,\n",
    "                             test_loss.result(),\n",
    "                             test_accuracy.result()*100))\n",
    "        "
   ]
  },
  {
   "cell_type": "code",
   "execution_count": null,
   "metadata": {},
   "outputs": [],
   "source": [
    "def display_images_in_square(images):\n",
    "    image_len = len(images)\n",
    "    square_size = (int)(image_len ** 0.5)\n",
    "    if (square_size * square_size < image_len):\n",
    "        square_size += 1\n",
    "    \n",
    "    fig = plt.figure(figsize=(square_size, square_size))\n",
    "    \n",
    "    for i in range(image_len):\n",
    "        fig.add_subplot(square_size, square_size, i + 1)\n",
    "        plt.imshow(images[i])\n",
    "        \n",
    "    plt.show()"
   ]
  },
  {
   "cell_type": "code",
   "execution_count": null,
   "metadata": {},
   "outputs": [],
   "source": [
    "def image_invert(image):\n",
    "    if np.linalg.norm(image) > 1e-9:\n",
    "        image /= np.linalg.norm(image)\n",
    "    image = 1 - image\n",
    "    return image"
   ]
  },
  {
   "cell_type": "code",
   "execution_count": null,
   "metadata": {},
   "outputs": [],
   "source": [
    "plt.imshow(x_train[958][:, :, 0])\n",
    "model.call(x_train[958:959])\n",
    "print(model.after_conv1[0].shape)\n",
    "\n",
    "display_images_in_square([image_invert(model.after_conv1[0][:, :, i]) for i in range(model.FilterSize1)])\n",
    "\n",
    "display_images_in_square([image_invert(model.after_conv2[0][:, :, i]) for i in range(model.FilterSize2)])"
   ]
  },
  {
   "cell_type": "code",
   "execution_count": null,
   "metadata": {},
   "outputs": [],
   "source": [
    "y_predicted = model.call(x_train)\n",
    "y_predicted = np.argmax(y_predicted, axis=1)"
   ]
  },
  {
   "cell_type": "code",
   "execution_count": null,
   "metadata": {},
   "outputs": [],
   "source": [
    "print(np.sum(y_predicted != y_train))"
   ]
  },
  {
   "cell_type": "code",
   "execution_count": null,
   "metadata": {},
   "outputs": [],
   "source": []
  },
  {
   "cell_type": "code",
   "execution_count": null,
   "metadata": {},
   "outputs": [],
   "source": []
  }
 ],
 "metadata": {
  "kernelspec": {
   "display_name": "Python 3",
   "language": "python",
   "name": "python3"
  },
  "language_info": {
   "codemirror_mode": {
    "name": "ipython",
    "version": 3
   },
   "file_extension": ".py",
   "mimetype": "text/x-python",
   "name": "python",
   "nbconvert_exporter": "python",
   "pygments_lexer": "ipython3",
   "version": "3.7.3"
  }
 },
 "nbformat": 4,
 "nbformat_minor": 2
}
