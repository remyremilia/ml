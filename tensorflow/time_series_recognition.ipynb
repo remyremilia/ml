{
 "cells": [
  {
   "cell_type": "code",
   "execution_count": 998,
   "metadata": {},
   "outputs": [],
   "source": [
    "import tensorflow as tf\n",
    "import numpy as np\n",
    "import matplotlib.pyplot as plot\n",
    "from sklearn.model_selection import train_test_split\n",
    "from sklearn.utils import shuffle\n",
    "import tensorflow_probability as tfp\n",
    "import math"
   ]
  },
  {
   "cell_type": "code",
   "execution_count": 999,
   "metadata": {},
   "outputs": [],
   "source": [
    "A = 100\n",
    "B = 1\n",
    "MOD = 157680\n",
    "def stream_linear_time_series():\n",
    "    for j in range(1, 100000000):\n",
    "        yield A * j + B\n",
    "        #yield (A * i + B) % MOD"
   ]
  },
  {
   "cell_type": "code",
   "execution_count": 1000,
   "metadata": {},
   "outputs": [],
   "source": [
    "A = -0.01\n",
    "B = -1\n",
    "MOD = 157680\n",
    "def stream_exp():\n",
    "    for i in range(1, 100000000):\n",
    "        x = A * i + B\n",
    "        yield(tf.keras.activations.exponential(x))\n",
    "    \n",
    "A = -0.01\n",
    "B = -1.\n",
    "MOD = 157680\n",
    "def stream_sin():\n",
    "    for i in range(1, 100000000):\n",
    "        x = A * i + B\n",
    "        yield tf.math.sin(x)"
   ]
  },
  {
   "cell_type": "code",
   "execution_count": 1001,
   "metadata": {},
   "outputs": [],
   "source": [
    "def generate_dataset(generator, dataset_len):\n",
    "    y = np.array([next(generator) for i in range(dataset_len)], dtype=np.float32)\n",
    "    X = np.array([[i] for i in range(1, 1 + y.shape[0])], dtype=np.float32)\n",
    "    \n",
    "    return X, y"
   ]
  },
  {
   "cell_type": "markdown",
   "metadata": {},
   "source": [
    "##### График последовательности"
   ]
  },
  {
   "cell_type": "code",
   "execution_count": 1008,
   "metadata": {},
   "outputs": [
    {
     "data": {
      "image/png": "[encoded data removed]",
      "text/plain": [
       "<Figure size 432x288 with 1 Axes>"
      ]
     },
     "metadata": {
      "needs_background": "light"
     },
     "output_type": "display_data"
    }
   ],
   "source": [
    "generator = stream_exp()\n",
    "sequance = []\n",
    "for j in range(1000):\n",
    "    sequance.append(next(generator))\n",
    "plot.plot(sequance)\n",
    "plot.show()"
   ]
  },
  {
   "cell_type": "code",
   "execution_count": 1009,
   "metadata": {},
   "outputs": [],
   "source": [
    "X, y = generate_dataset(stream_exp(), 1000)\n",
    "X_train, X_test, y_train, y_test = train_test_split(X, y, train_size=0.5, test_size=0.5, shuffle=True)"
   ]
  },
  {
   "cell_type": "code",
   "execution_count": 1010,
   "metadata": {},
   "outputs": [
    {
     "name": "stdout",
     "output_type": "stream",
     "text": [
      "(500, 1)\n",
      "(500,)\n",
      "(500, 1)\n",
      "(500,)\n"
     ]
    }
   ],
   "source": [
    "print(X_train.shape)\n",
    "print(y_train.shape)\n",
    "print(X_test.shape)\n",
    "print(y_test.shape)"
   ]
  },
  {
   "cell_type": "code",
   "execution_count": 1011,
   "metadata": {},
   "outputs": [],
   "source": [
    "# model = tf.keras.models.Sequential([\n",
    "#     #tf.keras.layers.SimpleRNN(2, activation=tf.keras.activations.linear),\n",
    "#     tf.keras.layers.Dense(units=1, activation=tf.keras.activations.linear)\n",
    "# ])"
   ]
  },
  {
   "cell_type": "code",
   "execution_count": 1027,
   "metadata": {},
   "outputs": [],
   "source": [
    "class MyModel(tf.keras.Model):\n",
    "    def __init__(self):\n",
    "        super(MyModel, self).__init__()\n",
    "        self.dense = tf.keras.layers.Dense(\n",
    "            units=1, \n",
    "            activation=tf.keras.activations.exponential,\n",
    "            kernel_initializer=tf.random_normal_initializer(mean=-1, stddev=1 / 3.),\n",
    "            bias_initializer=tf.random_normal_initializer(),\n",
    "            name='dense'\n",
    "        )\n",
    "        \n",
    "    def __call__(self, x):\n",
    "        return self.dense(x)[:, 0]\n",
    "\n",
    "loss_object = tf.keras.losses.MeanSquaredError()\n",
    "\n",
    "train_loss = tf.keras.metrics.Mean(name='train_loss')\n",
    "train_accuracy = tf.keras.metrics.MeanSquaredError(name='train_accuracy')\n",
    "\n",
    "test_loss = tf.keras.metrics.Mean(name='test_loss')\n",
    "test_accuracy = tf.keras.metrics.MeanSquaredError(name='test_accuracy')"
   ]
  },
  {
   "cell_type": "code",
   "execution_count": 1028,
   "metadata": {},
   "outputs": [],
   "source": [
    "#@tf.function\n",
    "def train_step(model, X, y, learning_rate):\n",
    " #   print(X, y)\n",
    "#     print(X.shape, y.shape)\n",
    "    optimizer_instance = tf.keras.optimizers.Adam(learning_rate=learning_rate)\n",
    "    with tf.GradientTape() as tape:\n",
    "        predictions = model(X)\n",
    "        loss = loss_object(y, predictions)\n",
    "    \n",
    "        \n",
    "#     print(X.shape, y.shape, predictions.shape)\n",
    "   # print(\"loss: \", loss)\n",
    "\n",
    "#     print(\"y_true: \", y)\n",
    "#     print(\"y_predict: \", predictions)\n",
    "    \n",
    "#     print(\"X: \", X)\n",
    "#     print(\"kernel:\", model.get_layer(name='dense').kernel.numpy())\n",
    "#     print(\"bias:\", model.get_layer(name='dense').bias.numpy())\n",
    "    grad = tape.gradient(loss, model.trainable_variables)\n",
    "    \n",
    "    #print(\"grad: \", [i.numpy() for i in grad])\n",
    "    #print(\"model.trainable_variables: \", model.trainable_variables)\n",
    "    \n",
    "   # print(grad, learning_rate)\n",
    "    for (val, grad) in zip(model.trainable_variables, grad):\n",
    "        val.assign(val - grad * learning_rate)\n",
    "    #optimizer_instance.apply_gradients(zip(grad, model.trainable_variables))\n",
    "\n",
    "\n",
    "    train_loss(loss)\n",
    "    train_accuracy(y, predictions)"
   ]
  },
  {
   "cell_type": "code",
   "execution_count": 1029,
   "metadata": {},
   "outputs": [],
   "source": [
    "@tf.function\n",
    "def test_step(model, X, y):\n",
    "    predictions = model(X)\n",
    "    t_loss = loss_object(y, predictions)\n",
    "\n",
    "    test_loss(t_loss)\n",
    "    test_accuracy(y, predictions)"
   ]
  },
  {
   "cell_type": "code",
   "execution_count": 1030,
   "metadata": {},
   "outputs": [],
   "source": [
    "def stream_batch(X, y, batch_size):\n",
    "    assert(X.shape[0] == y.shape[0])\n",
    "    X, y = shuffle(X, y)\n",
    "    for i in range(0, X.shape[0] - batch_size + 1, batch_size):\n",
    "        yield X[i:i+batch_size], y[i:i+batch_size]"
   ]
  },
  {
   "cell_type": "code",
   "execution_count": 1031,
   "metadata": {},
   "outputs": [],
   "source": [
    "EPOCHS = 10"
   ]
  },
  {
   "cell_type": "code",
   "execution_count": 1040,
   "metadata": {},
   "outputs": [
    {
     "name": "stdout",
     "output_type": "stream",
     "text": [
      "Epoch 1, Loss: 0.006026154849678278, MSE: 0.602615475654602, Test Loss: 0.006970304995775223, Test MSE: 0.6970304846763611\n",
      "kernel: [[-1.2745914]]\n",
      "bias: [0.03887003]\n",
      "Epoch 2, Loss: 0.006026152987033129, MSE: 0.6026152968406677, Test Loss: 0.006970274727791548, Test MSE: 0.6970274448394775\n",
      "kernel: [[-1.274522]]\n",
      "bias: [0.03888344]\n",
      "Epoch 3, Loss: 0.006026151590049267, MSE: 0.6026151776313782, Test Loss: 0.006970244459807873, Test MSE: 0.6970244646072388\n",
      "kernel: [[-1.2744524]]\n",
      "bias: [0.03889685]\n",
      "Epoch 4, Loss: 0.0060261511243879795, MSE: 0.6026151180267334, Test Loss: 0.006970213260501623, Test MSE: 0.6970213055610657\n",
      "kernel: [[-1.2743828]]\n",
      "bias: [0.03891028]\n",
      "Epoch 5, Loss: 0.0060261511243879795, MSE: 0.6026151180267334, Test Loss: 0.0069701834581792355, Test MSE: 0.6970183253288269\n",
      "kernel: [[-1.2743132]]\n",
      "bias: [0.0389237]\n",
      "Epoch 6, Loss: 0.006026148796081543, MSE: 0.6026148796081543, Test Loss: 0.006970152258872986, Test MSE: 0.6970152258872986\n",
      "kernel: [[-1.2742436]]\n",
      "bias: [0.03893713]\n",
      "Epoch 7, Loss: 0.006026148796081543, MSE: 0.6026148796081543, Test Loss: 0.006970121990889311, Test MSE: 0.697012186050415\n",
      "kernel: [[-1.274174]]\n",
      "bias: [0.03895057]\n",
      "Epoch 8, Loss: 0.006026148330420256, MSE: 0.6026148200035095, Test Loss: 0.006970090791583061, Test MSE: 0.6970090866088867\n",
      "kernel: [[-1.2741044]]\n",
      "bias: [0.03896401]\n",
      "Epoch 9, Loss: 0.006026146002113819, MSE: 0.6026145815849304, Test Loss: 0.006970060523599386, Test MSE: 0.6970060467720032\n",
      "kernel: [[-1.2740346]]\n",
      "bias: [0.03897745]\n",
      "Epoch 10, Loss: 0.006026146002113819, MSE: 0.6026145815849304, Test Loss: 0.006970029789954424, Test MSE: 0.6970030069351196\n",
      "kernel: [[-1.2739649]]\n",
      "bias: [0.0389909]\n"
     ]
    }
   ],
   "source": [
    "model = MyModel()\n",
    "for epoch in range(EPOCHS):\n",
    "  #  print(\"-\" * 100)\n",
    "\n",
    "    train_loss.reset_states()\n",
    "    train_accuracy.reset_states()\n",
    "    test_loss.reset_states()\n",
    "    test_accuracy.reset_states()\n",
    "    \n",
    "    for x, y in stream_batch(X_train, y_train, batch_size=10):\n",
    "        train_step(model, x, y, learning_rate=(0.1))\n",
    "\n",
    "    test_step(model, X_test, y_test)\n",
    "    \n",
    "    template = 'Epoch {}, Loss: {}, MSE: {}, Test Loss: {}, Test MSE: {}'\n",
    "    print (template.format(epoch+1,\n",
    "                         train_loss.result(),\n",
    "                         train_accuracy.result()*100,\n",
    "                         test_loss.result(),\n",
    "                         test_accuracy.result()*100))\n",
    "    \n",
    "\n",
    "#     print(\"-\" * 100)\n",
    "    print(\"kernel:\", model.get_layer(name='dense').kernel.numpy())\n",
    "    print(\"bias:\", model.get_layer(name='dense').bias.numpy())"
   ]
  },
  {
   "cell_type": "code",
   "execution_count": 1018,
   "metadata": {},
   "outputs": [],
   "source": [
    "# model.compile(\n",
    "#     optimizer=tf.keras.optimizers.Adam(),\n",
    "#     loss='mean_squared_error',\n",
    "#     metrics=['mean_absolute_error']\n",
    "# )"
   ]
  },
  {
   "cell_type": "code",
   "execution_count": 979,
   "metadata": {
    "scrolled": true
   },
   "outputs": [
    {
     "ename": "RuntimeError",
     "evalue": "You must compile your model before training/testing. Use `model.compile(optimizer, loss)`.",
     "output_type": "error",
     "traceback": [
      "\u001b[0;31m---------------------------------------------------------------------------\u001b[0m",
      "\u001b[0;31mRuntimeError\u001b[0m                              Traceback (most recent call last)",
      "\u001b[0;32m<ipython-input-979-2dcbe64203e2>\u001b[0m in \u001b[0;36m<module>\u001b[0;34m\u001b[0m\n\u001b[1;32m      3\u001b[0m     \u001b[0my_train\u001b[0m\u001b[0;34m,\u001b[0m\u001b[0;34m\u001b[0m\u001b[0;34m\u001b[0m\u001b[0m\n\u001b[1;32m      4\u001b[0m     \u001b[0mepochs\u001b[0m\u001b[0;34m=\u001b[0m\u001b[0;36m100\u001b[0m\u001b[0;34m,\u001b[0m\u001b[0;34m\u001b[0m\u001b[0;34m\u001b[0m\u001b[0m\n\u001b[0;32m----> 5\u001b[0;31m     \u001b[0mbatch_size\u001b[0m\u001b[0;34m=\u001b[0m\u001b[0;36m2\u001b[0m\u001b[0;34m,\u001b[0m\u001b[0;34m\u001b[0m\u001b[0;34m\u001b[0m\u001b[0m\n\u001b[0m\u001b[1;32m      6\u001b[0m )\n",
      "\u001b[0;32m~/anaconda3/lib/python3.7/site-packages/tensorflow_core/python/keras/engine/training.py\u001b[0m in \u001b[0;36mfit\u001b[0;34m(self, x, y, batch_size, epochs, verbose, callbacks, validation_split, validation_data, shuffle, class_weight, sample_weight, initial_epoch, steps_per_epoch, validation_steps, validation_freq, max_queue_size, workers, use_multiprocessing, **kwargs)\u001b[0m\n\u001b[1;32m    794\u001b[0m     \u001b[0;32mif\u001b[0m \u001b[0mkwargs\u001b[0m\u001b[0;34m:\u001b[0m\u001b[0;34m\u001b[0m\u001b[0;34m\u001b[0m\u001b[0m\n\u001b[1;32m    795\u001b[0m       \u001b[0;32mraise\u001b[0m \u001b[0mTypeError\u001b[0m\u001b[0;34m(\u001b[0m\u001b[0;34m'Unrecognized keyword arguments: '\u001b[0m \u001b[0;34m+\u001b[0m \u001b[0mstr\u001b[0m\u001b[0;34m(\u001b[0m\u001b[0mkwargs\u001b[0m\u001b[0;34m)\u001b[0m\u001b[0;34m)\u001b[0m\u001b[0;34m\u001b[0m\u001b[0;34m\u001b[0m\u001b[0m\n\u001b[0;32m--> 796\u001b[0;31m     \u001b[0mself\u001b[0m\u001b[0;34m.\u001b[0m\u001b[0m_assert_compile_was_called\u001b[0m\u001b[0;34m(\u001b[0m\u001b[0;34m)\u001b[0m\u001b[0;34m\u001b[0m\u001b[0;34m\u001b[0m\u001b[0m\n\u001b[0m\u001b[1;32m    797\u001b[0m     \u001b[0mself\u001b[0m\u001b[0;34m.\u001b[0m\u001b[0m_check_call_args\u001b[0m\u001b[0;34m(\u001b[0m\u001b[0;34m'fit'\u001b[0m\u001b[0;34m)\u001b[0m\u001b[0;34m\u001b[0m\u001b[0;34m\u001b[0m\u001b[0m\n\u001b[1;32m    798\u001b[0m \u001b[0;34m\u001b[0m\u001b[0m\n",
      "\u001b[0;32m~/anaconda3/lib/python3.7/site-packages/tensorflow_core/python/keras/engine/training.py\u001b[0m in \u001b[0;36m_assert_compile_was_called\u001b[0;34m(self)\u001b[0m\n\u001b[1;32m   2826\u001b[0m     \u001b[0;31m# (i.e. whether the model is built and its inputs/outputs are set).\u001b[0m\u001b[0;34m\u001b[0m\u001b[0;34m\u001b[0m\u001b[0;34m\u001b[0m\u001b[0m\n\u001b[1;32m   2827\u001b[0m     \u001b[0;32mif\u001b[0m \u001b[0;32mnot\u001b[0m \u001b[0mself\u001b[0m\u001b[0;34m.\u001b[0m\u001b[0moptimizer\u001b[0m\u001b[0;34m:\u001b[0m\u001b[0;34m\u001b[0m\u001b[0;34m\u001b[0m\u001b[0m\n\u001b[0;32m-> 2828\u001b[0;31m       raise RuntimeError('You must compile your model before '\n\u001b[0m\u001b[1;32m   2829\u001b[0m                          \u001b[0;34m'training/testing. '\u001b[0m\u001b[0;34m\u001b[0m\u001b[0;34m\u001b[0m\u001b[0m\n\u001b[1;32m   2830\u001b[0m                          'Use `model.compile(optimizer, loss)`.')\n",
      "\u001b[0;31mRuntimeError\u001b[0m: You must compile your model before training/testing. Use `model.compile(optimizer, loss)`."
     ]
    }
   ],
   "source": [
    "model.fit(\n",
    "    X_train, \n",
    "    y_train, \n",
    "    epochs=100,\n",
    "    batch_size=2,\n",
    ")"
   ]
  },
  {
   "cell_type": "code",
   "execution_count": null,
   "metadata": {},
   "outputs": [],
   "source": [
    "model.summary()"
   ]
  },
  {
   "cell_type": "code",
   "execution_count": null,
   "metadata": {},
   "outputs": [],
   "source": [
    "pred = model.predict(np.array([100]))\n",
    "print(pred)"
   ]
  },
  {
   "cell_type": "code",
   "execution_count": null,
   "metadata": {},
   "outputs": [],
   "source": [
    "print(X_test[0:10])"
   ]
  },
  {
   "cell_type": "code",
   "execution_count": null,
   "metadata": {},
   "outputs": [],
   "source": [
    "print(X_test[0:1].shape)"
   ]
  },
  {
   "cell_type": "code",
   "execution_count": null,
   "metadata": {},
   "outputs": [],
   "source": [
    "plot.plot(pred)\n",
    "plot.plot(y_test[0:100])"
   ]
  },
  {
   "cell_type": "code",
   "execution_count": null,
   "metadata": {},
   "outputs": [],
   "source": []
  },
  {
   "cell_type": "code",
   "execution_count": null,
   "metadata": {},
   "outputs": [],
   "source": [
    "model.summary()"
   ]
  },
  {
   "cell_type": "code",
   "execution_count": null,
   "metadata": {},
   "outputs": [],
   "source": [
    "var1 = tf.Variable(initial_value=2023.)\n",
    "var2 = tf.Variable(initial_value=-3456.)\n",
    "\n",
    "loss = lambda: loss_object([var1, var2 * var2], [245., 47. ** 2]) #(var1 + 245) ** 2 + (var2 ** 2 - 47 * 47) ** 2\n",
    "\n",
    "optimizer = tf.keras.optimizers.Adam\n",
    "minimize(optimizer, loss, [var1, var2])\n",
    "print(var1.numpy(), var2.numpy())"
   ]
  },
  {
   "cell_type": "code",
   "execution_count": 848,
   "metadata": {},
   "outputs": [],
   "source": [
    "from scipy.optimize import minimize"
   ]
  },
  {
   "cell_type": "code",
   "execution_count": 902,
   "metadata": {},
   "outputs": [
    {
     "name": "stdout",
     "output_type": "stream",
     "text": [
      " final_simplex: (array([[-0.01000362, -0.99997953],\n",
      "       [-0.00999465, -1.00004649],\n",
      "       [-0.01000603, -0.99992829]]), array([7.76838177e-11, 1.36568715e-10, 2.08367990e-10]))\n",
      "           fun: 7.768381771189325e-11\n",
      "       message: 'Optimization terminated successfully.'\n",
      "          nfev: 117\n",
      "           nit: 60\n",
      "        status: 0\n",
      "       success: True\n",
      "             x: array([-0.01000362, -0.99997953])\n"
     ]
    }
   ],
   "source": [
    "def f(x):\n",
    "    w = x[0]\n",
    "    b = x[1]\n",
    "    return loss_object(tf.math.exp(w * X_train + b)[:, 0], y_train)\n",
    "    \n",
    "res = minimize(f, [-4, 2], method='Nelder-Mead')\n",
    "print(res)"
   ]
  },
  {
   "cell_type": "code",
   "execution_count": null,
   "metadata": {},
   "outputs": [],
   "source": []
  }
 ],
 "metadata": {
  "kernelspec": {
   "display_name": "Python 3",
   "language": "python",
   "name": "python3"
  },
  "language_info": {
   "codemirror_mode": {
    "name": "ipython",
    "version": 3
   },
   "file_extension": ".py",
   "mimetype": "text/x-python",
   "name": "python",
   "nbconvert_exporter": "python",
   "pygments_lexer": "ipython3",
   "version": "3.7.3"
  }
 },
 "nbformat": 4,
 "nbformat_minor": 2
}
